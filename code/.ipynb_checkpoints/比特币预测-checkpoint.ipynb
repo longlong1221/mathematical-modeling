{
 "cells": [
  {
   "cell_type": "code",
   "execution_count": 1,
   "id": "bce792f9",
   "metadata": {},
   "outputs": [],
   "source": [
    "from datetime import date\n",
    "import pandas as pd\n",
    "import quandl\n",
    "import matplotlib.pyplot as plt\n",
    "from sklearn.preprocessing import MinMaxScaler\n",
    "import numpy as np\n",
    "from tensorflow.keras import layers, Sequential\n",
    "import tensorflow as tf"
   ]
  },
  {
   "cell_type": "code",
   "execution_count": 2,
   "id": "58ea1a8d",
   "metadata": {},
   "outputs": [
    {
     "name": "stdout",
     "output_type": "stream",
     "text": [
      "[PhysicalDevice(name='/physical_device:GPU:0', device_type='GPU')]\n"
     ]
    }
   ],
   "source": [
    "gpus = tf.config.experimental.list_physical_devices('GPU')\n",
    "print(gpus)\n",
    "for gpu in gpus:\n",
    "    tf.config.experimental.set_memory_growth(gpu, True)"
   ]
  },
  {
   "cell_type": "code",
   "execution_count": 3,
   "id": "f3d797b7",
   "metadata": {},
   "outputs": [],
   "source": [
    "google_stock = pd.read_csv(\"../data/BCHAIN-MKPRU.csv\").dropna(axis=0)"
   ]
  },
  {
   "cell_type": "code",
   "execution_count": 18,
   "id": "4e026f6e",
   "metadata": {},
   "outputs": [],
   "source": [
    "from datetime import date\n",
    "import pandas as pd\n",
    "import quandl\n",
    "import matplotlib.pyplot as plt\n",
    "from sklearn.preprocessing import MinMaxScaler\n",
    "import numpy as np\n",
    "from tensorflow.keras import layers, Sequential\n",
    "import tensorflow as tf\n",
    "\n",
    "gpus = tf.config.experimental.list_physical_devices('GPU')\n",
    "print(gpus)\n",
    "for gpu in gpus:\n",
    "    tf.config.experimental.set_memory_growth(gpu, True)\n",
    "    \n",
    "start = date(2000,10,12)\n",
    "end = date.today()\n",
    "google_stock = pd.read_csv(\"./BCHAIN-MKPRU.csv\").dropna(axis=0)\n",
    "\n",
    "def run(time_stamp = 30):\n",
    "    global google_stock\n",
    "    # 划分训练集与验证集\n",
    "    google_stock = google_stock[['Value']]  #  'Volume'\n",
    "\n",
    "    train = google_stock[0:1200 + time_stamp]\n",
    "    valid = google_stock[1200 + time_stamp:]\n",
    "\n",
    "    # 归一化\n",
    "    scaler = MinMaxScaler(feature_range=(0, 1))  \n",
    "    scaled_data = scaler.fit_transform(train)\n",
    "    x_train, y_train = [], []\n",
    "\n",
    "\n",
    "    # 训练集\n",
    "    for i in range(time_stamp, len(train)):\n",
    "        x_train.append(scaled_data[i - time_stamp:i])\n",
    "        y_train.append(scaled_data[i, 0])\n",
    "\n",
    "    x_train, y_train = np.array(x_train), np.array(y_train)\n",
    "\n",
    "    # 验证集\n",
    "    scaled_data = scaler.fit_transform(valid)\n",
    "    x_valid, y_valid = [], []\n",
    "    for i in range(time_stamp, len(valid)):\n",
    "        x_valid.append(scaled_data[i - time_stamp:i])\n",
    "        y_valid.append(scaled_data[i, 0])\n",
    "\n",
    "    x_valid, y_valid = np.array(x_valid), np.array(y_valid)\n",
    "\n",
    "    # 总体数据集\n",
    "    scaled_data = scaler.fit_transform(google_stock)\n",
    "    x_total, y_total = [], []\n",
    "    for i in range(time_stamp, len(google_stock)):\n",
    "        x_total.append(scaled_data[i - time_stamp:i])\n",
    "        y_total.append(scaled_data[i, 0])\n",
    "\n",
    "    x_total, y_total = np.array(x_total), np.array(y_total)\n",
    "\n",
    "\n",
    "    # 超参数\n",
    "    epochs = 30\n",
    "    batch_size = 16\n",
    "    # LSTM 参数: return_sequences=True LSTM输出为一个序列。默认为False，输出一个值。\n",
    "    # input_dim： 输入单个样本特征值的维度\n",
    "    # input_length： 输入的时间点长度\n",
    "    model = Sequential()\n",
    "    model.add(layers.LSTM(units=100, return_sequences=True, input_dim=x_train.shape[-1], input_length=x_train.shape[1]))\n",
    "    model.add(layers.LSTM(units=50))\n",
    "    model.add(layers.Dense(1))\n",
    "    model.compile(loss='mean_squared_error', optimizer='adam')\n",
    "    model.fit(x_train, y_train, epochs=epochs, batch_size=batch_size, verbose=1)\n",
    "\n",
    "\n",
    "    x_valid_predict = model.predict(x_valid)\n",
    "    scaler.fit_transform(pd.DataFrame(valid['Value'].values))\n",
    "    # 反归一化\n",
    "    x_valid_predict = scaler.inverse_transform(x_valid_predict)\n",
    "    y_valid = scaler.inverse_transform([y_valid])\n",
    "\n",
    "    rms = np.sqrt(np.mean(np.power((y_valid - x_valid_predict), 2)))\n",
    "    print(f\"test_rms:{rms}\")\n",
    "    return rms\n",
    "run()"
   ]
  },
  {
   "cell_type": "code",
   "execution_count": 19,
   "id": "f0d26e70",
   "metadata": {
    "scrolled": false
   },
   "outputs": [
    {
     "name": "stdout",
     "output_type": "stream",
     "text": [
      "Epoch 1/30\n",
      "75/75 [==============================] - 2s 7ms/step - loss: 0.0058\n",
      "Epoch 2/30\n",
      "75/75 [==============================] - 1s 7ms/step - loss: 0.0019\n",
      "Epoch 3/30\n",
      "75/75 [==============================] - 1s 7ms/step - loss: 0.0015\n",
      "Epoch 4/30\n",
      "75/75 [==============================] - 1s 7ms/step - loss: 0.0012\n",
      "Epoch 5/30\n",
      "75/75 [==============================] - 1s 7ms/step - loss: 0.0012\n",
      "Epoch 6/30\n",
      "75/75 [==============================] - 1s 7ms/step - loss: 9.3244e-04\n",
      "Epoch 7/30\n",
      "75/75 [==============================] - 1s 7ms/step - loss: 8.8672e-04\n",
      "Epoch 8/30\n",
      "75/75 [==============================] - 1s 7ms/step - loss: 8.4309e-04\n",
      "Epoch 9/30\n",
      "75/75 [==============================] - 1s 7ms/step - loss: 8.6695e-04\n",
      "Epoch 10/30\n",
      "75/75 [==============================] - 1s 7ms/step - loss: 7.1365e-04\n",
      "Epoch 11/30\n",
      "75/75 [==============================] - 1s 7ms/step - loss: 8.9380e-04\n",
      "Epoch 12/30\n",
      "75/75 [==============================] - 1s 7ms/step - loss: 6.5921e-04\n",
      "Epoch 13/30\n",
      "75/75 [==============================] - 1s 7ms/step - loss: 6.1952e-04\n",
      "Epoch 14/30\n",
      "75/75 [==============================] - 1s 7ms/step - loss: 7.0045e-04\n",
      "Epoch 15/30\n",
      "75/75 [==============================] - 1s 7ms/step - loss: 7.3503e-04\n",
      "Epoch 16/30\n",
      "75/75 [==============================] - 1s 7ms/step - loss: 6.2683e-04\n",
      "Epoch 17/30\n",
      "75/75 [==============================] - 1s 7ms/step - loss: 5.4179e-04\n",
      "Epoch 18/30\n",
      "75/75 [==============================] - 0s 7ms/step - loss: 5.7569e-04\n",
      "Epoch 19/30\n",
      "75/75 [==============================] - 1s 7ms/step - loss: 5.2653e-04\n",
      "Epoch 20/30\n",
      "75/75 [==============================] - 1s 7ms/step - loss: 4.8268e-04\n",
      "Epoch 21/30\n",
      "75/75 [==============================] - 1s 7ms/step - loss: 4.6533e-04\n",
      "Epoch 22/30\n",
      "75/75 [==============================] - 1s 7ms/step - loss: 4.5970e-04\n",
      "Epoch 23/30\n",
      "75/75 [==============================] - 1s 7ms/step - loss: 4.7744e-04\n",
      "Epoch 24/30\n",
      "75/75 [==============================] - 0s 7ms/step - loss: 4.1985e-04\n",
      "Epoch 25/30\n",
      "75/75 [==============================] - 1s 7ms/step - loss: 4.0769e-04\n",
      "Epoch 26/30\n",
      "75/75 [==============================] - 0s 7ms/step - loss: 4.8319e-04\n",
      "Epoch 27/30\n",
      "75/75 [==============================] - 0s 7ms/step - loss: 4.2502e-04\n",
      "Epoch 28/30\n",
      "75/75 [==============================] - 0s 7ms/step - loss: 3.8706e-04\n",
      "Epoch 29/30\n",
      "75/75 [==============================] - 1s 7ms/step - loss: 3.8961e-04\n",
      "Epoch 30/30\n",
      "75/75 [==============================] - 0s 7ms/step - loss: 4.0376e-04\n",
      "test_rms:24866.885962849843\n"
     ]
    },
    {
     "data": {
      "text/plain": [
       "24866.885962849843"
      ]
     },
     "execution_count": 19,
     "metadata": {},
     "output_type": "execute_result"
    }
   ],
   "source": [
    "run()"
   ]
  },
  {
   "cell_type": "code",
   "execution_count": 6,
   "id": "83cb9436",
   "metadata": {},
   "outputs": [
    {
     "name": "stdout",
     "output_type": "stream",
     "text": [
      "(1826, 2)\n"
     ]
    },
    {
     "data": {
      "text/html": [
       "<div>\n",
       "<style scoped>\n",
       "    .dataframe tbody tr th:only-of-type {\n",
       "        vertical-align: middle;\n",
       "    }\n",
       "\n",
       "    .dataframe tbody tr th {\n",
       "        vertical-align: top;\n",
       "    }\n",
       "\n",
       "    .dataframe thead th {\n",
       "        text-align: right;\n",
       "    }\n",
       "</style>\n",
       "<table border=\"1\" class=\"dataframe\">\n",
       "  <thead>\n",
       "    <tr style=\"text-align: right;\">\n",
       "      <th></th>\n",
       "      <th>Date</th>\n",
       "      <th>Value</th>\n",
       "    </tr>\n",
       "  </thead>\n",
       "  <tbody>\n",
       "    <tr>\n",
       "      <th>0</th>\n",
       "      <td>9/11/16</td>\n",
       "      <td>621.65</td>\n",
       "    </tr>\n",
       "    <tr>\n",
       "      <th>1</th>\n",
       "      <td>9/12/16</td>\n",
       "      <td>609.67</td>\n",
       "    </tr>\n",
       "    <tr>\n",
       "      <th>2</th>\n",
       "      <td>9/13/16</td>\n",
       "      <td>610.92</td>\n",
       "    </tr>\n",
       "    <tr>\n",
       "      <th>3</th>\n",
       "      <td>9/14/16</td>\n",
       "      <td>608.82</td>\n",
       "    </tr>\n",
       "    <tr>\n",
       "      <th>4</th>\n",
       "      <td>9/15/16</td>\n",
       "      <td>610.38</td>\n",
       "    </tr>\n",
       "    <tr>\n",
       "      <th>...</th>\n",
       "      <td>...</td>\n",
       "      <td>...</td>\n",
       "    </tr>\n",
       "    <tr>\n",
       "      <th>1821</th>\n",
       "      <td>9/6/21</td>\n",
       "      <td>51769.06</td>\n",
       "    </tr>\n",
       "    <tr>\n",
       "      <th>1822</th>\n",
       "      <td>9/7/21</td>\n",
       "      <td>52677.40</td>\n",
       "    </tr>\n",
       "    <tr>\n",
       "      <th>1823</th>\n",
       "      <td>9/8/21</td>\n",
       "      <td>46809.17</td>\n",
       "    </tr>\n",
       "    <tr>\n",
       "      <th>1824</th>\n",
       "      <td>9/9/21</td>\n",
       "      <td>46078.38</td>\n",
       "    </tr>\n",
       "    <tr>\n",
       "      <th>1825</th>\n",
       "      <td>9/10/21</td>\n",
       "      <td>46368.69</td>\n",
       "    </tr>\n",
       "  </tbody>\n",
       "</table>\n",
       "<p>1826 rows × 2 columns</p>\n",
       "</div>"
      ],
      "text/plain": [
       "         Date     Value\n",
       "0     9/11/16    621.65\n",
       "1     9/12/16    609.67\n",
       "2     9/13/16    610.92\n",
       "3     9/14/16    608.82\n",
       "4     9/15/16    610.38\n",
       "...       ...       ...\n",
       "1821   9/6/21  51769.06\n",
       "1822   9/7/21  52677.40\n",
       "1823   9/8/21  46809.17\n",
       "1824   9/9/21  46078.38\n",
       "1825  9/10/21  46368.69\n",
       "\n",
       "[1826 rows x 2 columns]"
      ]
     },
     "execution_count": 6,
     "metadata": {},
     "output_type": "execute_result"
    }
   ],
   "source": [
    "start = date(2000,10,12)\n",
    "end = date.today()\n",
    "google_stock = pd.read_csv(\"./BCHAIN-MKPRU.csv\").dropna(axis=0)\n",
    "print(google_stock.shape)\n",
    "google_stock"
   ]
  },
  {
   "cell_type": "code",
   "execution_count": 7,
   "id": "ecc3ac99",
   "metadata": {},
   "outputs": [
    {
     "data": {
      "image/png": "[encoded data removed]",
      "text/plain": [
       "<Figure size 1152x576 with 1 Axes>"
      ]
     },
     "metadata": {
      "needs_background": "light"
     },
     "output_type": "display_data"
    }
   ],
   "source": [
    "plt.figure(figsize=(16, 8))\n",
    "plt.plot(google_stock['Value'])\n",
    "plt.show()"
   ]
  },
  {
   "cell_type": "code",
   "execution_count": 8,
   "id": "435b8f53",
   "metadata": {},
   "outputs": [
    {
     "name": "stdout",
     "output_type": "stream",
     "text": [
      "train.shape:(1210, 1)\n",
      "valid.shape:(616, 1)\n",
      "scaled_data.shape:(1210, 1)\n",
      "scaled_data[0]:[0.00145837]\n",
      "x_train.shape:(1200, 10, 1)\n",
      "x_valid.shape(606, 10, 1)\n",
      "x_total.shape:(1816, 10, 1)\n"
     ]
    },
    {
     "data": {
      "text/html": [
       "<div>\n",
       "<style scoped>\n",
       "    .dataframe tbody tr th:only-of-type {\n",
       "        vertical-align: middle;\n",
       "    }\n",
       "\n",
       "    .dataframe tbody tr th {\n",
       "        vertical-align: top;\n",
       "    }\n",
       "\n",
       "    .dataframe thead th {\n",
       "        text-align: right;\n",
       "    }\n",
       "</style>\n",
       "<table border=\"1\" class=\"dataframe\">\n",
       "  <thead>\n",
       "    <tr style=\"text-align: right;\">\n",
       "      <th></th>\n",
       "      <th>Value</th>\n",
       "    </tr>\n",
       "  </thead>\n",
       "  <tbody>\n",
       "    <tr>\n",
       "      <th>0</th>\n",
       "      <td>621.65</td>\n",
       "    </tr>\n",
       "    <tr>\n",
       "      <th>1</th>\n",
       "      <td>609.67</td>\n",
       "    </tr>\n",
       "    <tr>\n",
       "      <th>2</th>\n",
       "      <td>610.92</td>\n",
       "    </tr>\n",
       "    <tr>\n",
       "      <th>3</th>\n",
       "      <td>608.82</td>\n",
       "    </tr>\n",
       "    <tr>\n",
       "      <th>4</th>\n",
       "      <td>610.38</td>\n",
       "    </tr>\n",
       "  </tbody>\n",
       "</table>\n",
       "</div>"
      ],
      "text/plain": [
       "    Value\n",
       "0  621.65\n",
       "1  609.67\n",
       "2  610.92\n",
       "3  608.82\n",
       "4  610.38"
      ]
     },
     "execution_count": 8,
     "metadata": {},
     "output_type": "execute_result"
    }
   ],
   "source": [
    "# 时间点长度\n",
    "time_stamp = 10\n",
    "\n",
    "# 划分训练集与验证集\n",
    "google_stock = google_stock[['Value']]  #  'Volume'\n",
    "\n",
    "train = google_stock[0:1200 + time_stamp]\n",
    "print(f\"train.shape:{train.shape}\")\n",
    "valid = google_stock[1200 + time_stamp:]\n",
    "print(f\"valid.shape:{valid.shape}\")\n",
    "\n",
    "# 归一化\n",
    "scaler = MinMaxScaler(feature_range=(0, 1))  \n",
    "scaled_data = scaler.fit_transform(train)\n",
    "x_train, y_train = [], []\n",
    "\n",
    "\n",
    "# 训练集\n",
    "print(f\"scaled_data.shape:{scaled_data.shape}\")\n",
    "print(f\"scaled_data[0]:{scaled_data[0]}\")\n",
    "for i in range(time_stamp, len(train)):\n",
    "    x_train.append(scaled_data[i - time_stamp:i])\n",
    "    y_train.append(scaled_data[i, 0])\n",
    "\n",
    "x_train, y_train = np.array(x_train), np.array(y_train)\n",
    "\n",
    "# 验证集\n",
    "scaled_data = scaler.fit_transform(valid)\n",
    "x_valid, y_valid = [], []\n",
    "for i in range(time_stamp, len(valid)):\n",
    "    x_valid.append(scaled_data[i - time_stamp:i])\n",
    "    y_valid.append(scaled_data[i, 0])\n",
    "\n",
    "x_valid, y_valid = np.array(x_valid), np.array(y_valid)\n",
    "\n",
    "# 总体数据集\n",
    "scaled_data = scaler.fit_transform(google_stock)\n",
    "x_total, y_total = [], []\n",
    "for i in range(time_stamp, len(google_stock)):\n",
    "    x_total.append(scaled_data[i - time_stamp:i])\n",
    "    y_total.append(scaled_data[i, 0])\n",
    "\n",
    "x_total, y_total = np.array(x_total), np.array(y_total)\n",
    "\n",
    "print(f\"x_train.shape:{x_train.shape}\")\n",
    "print(f\"x_valid.shape{x_valid.shape}\")\n",
    "print(f\"x_total.shape:{x_total.shape}\")\n",
    "train.head()"
   ]
  },
  {
   "cell_type": "code",
   "execution_count": null,
   "id": "83eda0bc",
   "metadata": {},
   "outputs": [],
   "source": []
  },
  {
   "cell_type": "code",
   "execution_count": 9,
   "id": "588442f2",
   "metadata": {},
   "outputs": [
    {
     "name": "stdout",
     "output_type": "stream",
     "text": [
      "Model: \"sequential\"\n",
      "_________________________________________________________________\n",
      " Layer (type)                Output Shape              Param #   \n",
      "=================================================================\n",
      " lstm (LSTM)                 (None, 10, 100)           40800     \n",
      "                                                                 \n",
      " lstm_1 (LSTM)               (None, 50)                30200     \n",
      "                                                                 \n",
      " dense (Dense)               (None, 1)                 51        \n",
      "                                                                 \n",
      "=================================================================\n",
      "Total params: 71,051\n",
      "Trainable params: 71,051\n",
      "Non-trainable params: 0\n",
      "_________________________________________________________________\n"
     ]
    }
   ],
   "source": [
    "# 超参数\n",
    "epochs = 30\n",
    "batch_size = 16\n",
    "# LSTM 参数: return_sequences=True LSTM输出为一个序列。默认为False，输出一个值。\n",
    "# input_dim： 输入单个样本特征值的维度\n",
    "# input_length： 输入的时间点长度\n",
    "model = Sequential()\n",
    "model.add(layers.LSTM(units=100, return_sequences=True, input_dim=x_train.shape[-1], input_length=x_train.shape[1]))\n",
    "model.add(layers.LSTM(units=50))\n",
    "model.add(layers.Dense(1))\n",
    "model.compile(loss='mean_squared_error', optimizer='adam')\n",
    "model.summary()"
   ]
  },
  {
   "cell_type": "code",
   "execution_count": 10,
   "id": "666d1d0c",
   "metadata": {},
   "outputs": [
    {
     "name": "stdout",
     "output_type": "stream",
     "text": [
      "Epoch 1/30\n",
      "75/75 [==============================] - 5s 6ms/step - loss: 0.0066\n",
      "Epoch 2/30\n",
      "75/75 [==============================] - 0s 5ms/step - loss: 0.0017\n",
      "Epoch 3/30\n",
      "75/75 [==============================] - 0s 5ms/step - loss: 0.0015\n",
      "Epoch 4/30\n",
      "75/75 [==============================] - 0s 5ms/step - loss: 0.0014\n",
      "Epoch 5/30\n",
      "75/75 [==============================] - 0s 5ms/step - loss: 0.0013\n",
      "Epoch 6/30\n",
      "75/75 [==============================] - 0s 5ms/step - loss: 0.0013\n",
      "Epoch 7/30\n",
      "75/75 [==============================] - 0s 5ms/step - loss: 0.0012\n",
      "Epoch 8/30\n",
      "75/75 [==============================] - 0s 5ms/step - loss: 9.8460e-04\n",
      "Epoch 9/30\n",
      "75/75 [==============================] - 0s 5ms/step - loss: 0.0012\n",
      "Epoch 10/30\n",
      "75/75 [==============================] - 0s 5ms/step - loss: 8.3941e-04\n",
      "Epoch 11/30\n",
      "75/75 [==============================] - 0s 5ms/step - loss: 8.7441e-04\n",
      "Epoch 12/30\n",
      "75/75 [==============================] - 0s 5ms/step - loss: 8.6899e-04\n",
      "Epoch 13/30\n",
      "75/75 [==============================] - 0s 5ms/step - loss: 7.1335e-04\n",
      "Epoch 14/30\n",
      "75/75 [==============================] - 0s 5ms/step - loss: 6.9783e-04\n",
      "Epoch 15/30\n",
      "75/75 [==============================] - 0s 5ms/step - loss: 6.2822e-04\n",
      "Epoch 16/30\n",
      "75/75 [==============================] - 0s 5ms/step - loss: 6.2693e-04\n",
      "Epoch 17/30\n",
      "75/75 [==============================] - 0s 5ms/step - loss: 5.8221e-04\n",
      "Epoch 18/30\n",
      "75/75 [==============================] - 0s 5ms/step - loss: 5.5704e-04\n",
      "Epoch 19/30\n",
      "75/75 [==============================] - 0s 5ms/step - loss: 5.3376e-04\n",
      "Epoch 20/30\n",
      "75/75 [==============================] - 0s 5ms/step - loss: 5.2033e-04\n",
      "Epoch 21/30\n",
      "75/75 [==============================] - 0s 5ms/step - loss: 5.1784e-04\n",
      "Epoch 22/30\n",
      "75/75 [==============================] - 0s 5ms/step - loss: 5.3013e-04\n",
      "Epoch 23/30\n",
      "75/75 [==============================] - 0s 5ms/step - loss: 5.5340e-04\n",
      "Epoch 24/30\n",
      "75/75 [==============================] - 0s 5ms/step - loss: 5.8227e-04\n",
      "Epoch 25/30\n",
      "75/75 [==============================] - 0s 5ms/step - loss: 4.2159e-04\n",
      "Epoch 26/30\n",
      "75/75 [==============================] - 0s 5ms/step - loss: 4.4567e-04\n",
      "Epoch 27/30\n",
      "75/75 [==============================] - 0s 5ms/step - loss: 4.2065e-04\n",
      "Epoch 28/30\n",
      "75/75 [==============================] - 0s 5ms/step - loss: 3.8966e-04\n",
      "Epoch 29/30\n",
      "75/75 [==============================] - 0s 5ms/step - loss: 4.4106e-04\n",
      "Epoch 30/30\n",
      "75/75 [==============================] - 0s 5ms/step - loss: 5.3555e-04\n"
     ]
    }
   ],
   "source": [
    "history = model.fit(x_train, y_train, epochs=epochs, batch_size=batch_size, verbose=1)"
   ]
  },
  {
   "cell_type": "code",
   "execution_count": 11,
   "id": "ffa52cf9",
   "metadata": {},
   "outputs": [],
   "source": [
    "model.save(\"BCHAIN-MKPRU.h5\")"
   ]
  },
  {
   "cell_type": "code",
   "execution_count": 12,
   "id": "f8248423",
   "metadata": {},
   "outputs": [
    {
     "data": {
      "image/png": "[encoded data removed]",
      "text/plain": [
       "<Figure size 432x288 with 1 Axes>"
      ]
     },
     "metadata": {
      "needs_background": "light"
     },
     "output_type": "display_data"
    }
   ],
   "source": [
    "train_loss = history.history[\"loss\"]\n",
    "\n",
    "\n",
    "plt.plot(train_loss,label=\"train_loss\")\n",
    "plt.legend()\n",
    "plt.xlabel(\"epochs\")\n",
    "plt.ylabel(\"loss\")\n",
    "plt.savefig(\"../../loss_b.png\")\n",
    "plt.show()"
   ]
  },
  {
   "cell_type": "markdown",
   "id": "fa306f1d",
   "metadata": {},
   "source": [
    "### 测试集预测"
   ]
  },
  {
   "cell_type": "code",
   "execution_count": 13,
   "id": "f4b0f885",
   "metadata": {},
   "outputs": [
    {
     "name": "stdout",
     "output_type": "stream",
     "text": [
      "test_rms:24991.12086063248\n",
      "(606, 1)\n",
      "(1, 606)\n"
     ]
    }
   ],
   "source": [
    "x_valid_predict = model.predict(x_valid)\n",
    "scaler.fit_transform(pd.DataFrame(valid['Value'].values))\n",
    "# 反归一化\n",
    "x_valid_predict = scaler.inverse_transform(x_valid_predict)\n",
    "y_valid = scaler.inverse_transform([y_valid])\n",
    "# print(y_valid)\n",
    "# print(closing_price)\n",
    "rms = np.sqrt(np.mean(np.power((y_valid - x_valid_predict), 2)))\n",
    "print(f\"test_rms:{rms}\")\n",
    "print(x_valid_predict.shape)\n",
    "print(y_valid.shape)"
   ]
  },
  {
   "cell_type": "code",
   "execution_count": 11,
   "id": "07b55c58",
   "metadata": {},
   "outputs": [
    {
     "data": {
      "image/png": "[encoded data removed]",
      "text/plain": [
       "<Figure size 1152x576 with 1 Axes>"
      ]
     },
     "metadata": {
      "needs_background": "light"
     },
     "output_type": "display_data"
    }
   ],
   "source": [
    "plt.figure(figsize=(16, 8))\n",
    "dict_data = {\n",
    "    'Predictions': x_valid_predict.reshape(1,-1)[0],\n",
    "    'Value': y_valid[0]\n",
    "}\n",
    "data_pd = pd.DataFrame(dict_data)\n",
    "\n",
    "plt.plot(data_pd[['Value', 'Predictions']])\n",
    "plt.show()"
   ]
  },
  {
   "cell_type": "code",
   "execution_count": 12,
   "id": "dc8b8fdc",
   "metadata": {},
   "outputs": [
    {
     "data": {
      "image/png": "[encoded data removed]",
      "text/plain": [
       "<Figure size 432x288 with 1 Axes>"
      ]
     },
     "metadata": {
      "needs_background": "light"
     },
     "output_type": "display_data"
    }
   ],
   "source": [
    "plt.plot(x_valid_predict.reshape(1,-1)[0],label=\"fitting value\")\n",
    "plt.plot(y_valid[0],label=\"true value\")\n",
    "plt.xlabel(\"time\")\n",
    "plt.ylabel(\"U.S. dollars per bitcoin\")\n",
    "plt.legend()\n",
    "plt.savefig(\"../../fitting_b_test.png\")\n",
    "plt.show()"
   ]
  },
  {
   "cell_type": "markdown",
   "id": "6444ef71",
   "metadata": {},
   "source": [
    "### 总体数据预测"
   ]
  },
  {
   "cell_type": "code",
   "execution_count": 13,
   "id": "58599bbc",
   "metadata": {},
   "outputs": [
    {
     "name": "stdout",
     "output_type": "stream",
     "text": [
      "test_rms:19419.444550164393\n",
      "x_total_predict.shape:(1816, 1)\n",
      "y_total.shape(1, 1816)\n"
     ]
    }
   ],
   "source": [
    "x_total_predict = model.predict(x_total)\n",
    "\n",
    "scaler.fit_transform(pd.DataFrame(google_stock['Value'].values))\n",
    "# 反归一化\n",
    "x_total_predict = scaler.inverse_transform(x_total_predict)\n",
    "y_total = scaler.inverse_transform([y_total])\n",
    "rms = np.sqrt(np.mean(np.power((y_total - x_total_predict), 2)))\n",
    "print(f\"test_rms:{rms}\")\n",
    "print(f\"x_total_predict.shape:{x_total_predict.shape}\")\n",
    "print(f\"y_total.shape{y_total.shape}\")"
   ]
  },
  {
   "cell_type": "code",
   "execution_count": 14,
   "id": "486b208d",
   "metadata": {},
   "outputs": [
    {
     "data": {
      "image/png": "[encoded data removed]",
      "text/plain": [
       "<Figure size 1152x576 with 1 Axes>"
      ]
     },
     "metadata": {
      "needs_background": "light"
     },
     "output_type": "display_data"
    }
   ],
   "source": [
    "plt.figure(figsize=(16, 8))\n",
    "dict_data = {\n",
    "    'Predictions': x_total_predict.reshape(1,-1)[0],\n",
    "    'Value': y_total[0]\n",
    "}\n",
    "data_pd = pd.DataFrame(dict_data)\n",
    "\n",
    "plt.plot(data_pd[['Value', 'Predictions']])\n",
    "plt.show()"
   ]
  },
  {
   "cell_type": "code",
   "execution_count": 15,
   "id": "14f2a0e5",
   "metadata": {},
   "outputs": [
    {
     "data": {
      "image/png": "[encoded data removed]",
      "text/plain": [
       "<Figure size 432x288 with 1 Axes>"
      ]
     },
     "metadata": {
      "needs_background": "light"
     },
     "output_type": "display_data"
    }
   ],
   "source": [
    "plt.plot(x_total_predict.reshape(1,-1)[0],label=\"fitting value\")\n",
    "plt.plot(y_total[0],label=\"true value\")\n",
    "plt.xlabel(\"time\")\n",
    "plt.ylabel(\"U.S. dollars per bitcoin\")\n",
    "plt.legend()\n",
    "plt.savefig(\"../../fitting_b.png\")\n",
    "plt.show()"
   ]
  },
  {
   "cell_type": "markdown",
   "id": "4b9f8333",
   "metadata": {},
   "source": [
    "### 比特币的预测值保存和缺失值填充"
   ]
  },
  {
   "cell_type": "code",
   "execution_count": 88,
   "id": "8f6b3d92",
   "metadata": {},
   "outputs": [
    {
     "name": "stdout",
     "output_type": "stream",
     "text": [
      "predict.shape:(1826,)\n",
      "缺失值索引:[]\n"
     ]
    }
   ],
   "source": [
    "predict = np.array([0 for i in range(30)] + list(x_total_predict[:,0]))\n",
    "print(f\"predict.shape:{predict.shape}\")\n",
    "df = pd.read_csv(\"./BCHAIN-MKPRU.csv\")\n",
    "null_index = np.where(np.isnan(df['Value']))[0]\n",
    "print(f\"缺失值索引:{null_index}\")\n",
    "\n",
    "usd_predict = list(predict)\n",
    "for index in null_index:\n",
    "    usd_predict.insert(index,0.0)\n",
    "    df.iloc[index,1] = 0.0\n",
    "df[\"BCHAIN-MKPRU_nextday_predict\"] = usd_predict\n",
    "df.to_csv(\"比特币预测数据.csv\",index=False)"
   ]
  },
  {
   "cell_type": "markdown",
   "id": "b0c65b79",
   "metadata": {},
   "source": [
    "### 黄金比特币对齐"
   ]
  },
  {
   "cell_type": "code",
   "execution_count": 90,
   "id": "1f4d58d1",
   "metadata": {},
   "outputs": [
    {
     "data": {
      "text/html": [
       "<div>\n",
       "<style scoped>\n",
       "    .dataframe tbody tr th:only-of-type {\n",
       "        vertical-align: middle;\n",
       "    }\n",
       "\n",
       "    .dataframe tbody tr th {\n",
       "        vertical-align: top;\n",
       "    }\n",
       "\n",
       "    .dataframe thead th {\n",
       "        text-align: right;\n",
       "    }\n",
       "</style>\n",
       "<table border=\"1\" class=\"dataframe\">\n",
       "  <thead>\n",
       "    <tr style=\"text-align: right;\">\n",
       "      <th></th>\n",
       "      <th>Date</th>\n",
       "      <th>Value</th>\n",
       "      <th>BCHAIN-MKPRU_nextday_predict</th>\n",
       "    </tr>\n",
       "  </thead>\n",
       "  <tbody>\n",
       "    <tr>\n",
       "      <th>0</th>\n",
       "      <td>9/11/16</td>\n",
       "      <td>621.65</td>\n",
       "      <td>0.000000</td>\n",
       "    </tr>\n",
       "    <tr>\n",
       "      <th>1</th>\n",
       "      <td>9/12/16</td>\n",
       "      <td>609.67</td>\n",
       "      <td>0.000000</td>\n",
       "    </tr>\n",
       "    <tr>\n",
       "      <th>2</th>\n",
       "      <td>9/13/16</td>\n",
       "      <td>610.92</td>\n",
       "      <td>0.000000</td>\n",
       "    </tr>\n",
       "    <tr>\n",
       "      <th>3</th>\n",
       "      <td>9/14/16</td>\n",
       "      <td>608.82</td>\n",
       "      <td>0.000000</td>\n",
       "    </tr>\n",
       "    <tr>\n",
       "      <th>4</th>\n",
       "      <td>9/15/16</td>\n",
       "      <td>610.38</td>\n",
       "      <td>0.000000</td>\n",
       "    </tr>\n",
       "    <tr>\n",
       "      <th>...</th>\n",
       "      <td>...</td>\n",
       "      <td>...</td>\n",
       "      <td>...</td>\n",
       "    </tr>\n",
       "    <tr>\n",
       "      <th>1821</th>\n",
       "      <td>9/6/21</td>\n",
       "      <td>51769.06</td>\n",
       "      <td>50361.078125</td>\n",
       "    </tr>\n",
       "    <tr>\n",
       "      <th>1822</th>\n",
       "      <td>9/7/21</td>\n",
       "      <td>52677.40</td>\n",
       "      <td>51666.117188</td>\n",
       "    </tr>\n",
       "    <tr>\n",
       "      <th>1823</th>\n",
       "      <td>9/8/21</td>\n",
       "      <td>46809.17</td>\n",
       "      <td>52785.785156</td>\n",
       "    </tr>\n",
       "    <tr>\n",
       "      <th>1824</th>\n",
       "      <td>9/9/21</td>\n",
       "      <td>46078.38</td>\n",
       "      <td>48409.058594</td>\n",
       "    </tr>\n",
       "    <tr>\n",
       "      <th>1825</th>\n",
       "      <td>9/10/21</td>\n",
       "      <td>46368.69</td>\n",
       "      <td>46294.968750</td>\n",
       "    </tr>\n",
       "  </tbody>\n",
       "</table>\n",
       "<p>1826 rows × 3 columns</p>\n",
       "</div>"
      ],
      "text/plain": [
       "         Date     Value  BCHAIN-MKPRU_nextday_predict\n",
       "0     9/11/16    621.65                      0.000000\n",
       "1     9/12/16    609.67                      0.000000\n",
       "2     9/13/16    610.92                      0.000000\n",
       "3     9/14/16    608.82                      0.000000\n",
       "4     9/15/16    610.38                      0.000000\n",
       "...       ...       ...                           ...\n",
       "1821   9/6/21  51769.06                  50361.078125\n",
       "1822   9/7/21  52677.40                  51666.117188\n",
       "1823   9/8/21  46809.17                  52785.785156\n",
       "1824   9/9/21  46078.38                  48409.058594\n",
       "1825  9/10/21  46368.69                  46294.968750\n",
       "\n",
       "[1826 rows x 3 columns]"
      ]
     },
     "execution_count": 90,
     "metadata": {},
     "output_type": "execute_result"
    }
   ],
   "source": [
    "df1 = pd.read_csv(\"./比特币预测数据.csv\")\n",
    "df1"
   ]
  },
  {
   "cell_type": "code",
   "execution_count": 91,
   "id": "1fb2c5aa",
   "metadata": {},
   "outputs": [
    {
     "data": {
      "text/html": [
       "<div>\n",
       "<style scoped>\n",
       "    .dataframe tbody tr th:only-of-type {\n",
       "        vertical-align: middle;\n",
       "    }\n",
       "\n",
       "    .dataframe tbody tr th {\n",
       "        vertical-align: top;\n",
       "    }\n",
       "\n",
       "    .dataframe thead th {\n",
       "        text-align: right;\n",
       "    }\n",
       "</style>\n",
       "<table border=\"1\" class=\"dataframe\">\n",
       "  <thead>\n",
       "    <tr style=\"text-align: right;\">\n",
       "      <th></th>\n",
       "      <th>Date</th>\n",
       "      <th>USD (PM)</th>\n",
       "      <th>usd_nextday_predict</th>\n",
       "    </tr>\n",
       "  </thead>\n",
       "  <tbody>\n",
       "    <tr>\n",
       "      <th>0</th>\n",
       "      <td>9/12/16</td>\n",
       "      <td>1324.60</td>\n",
       "      <td>0.000000</td>\n",
       "    </tr>\n",
       "    <tr>\n",
       "      <th>1</th>\n",
       "      <td>9/13/16</td>\n",
       "      <td>1323.65</td>\n",
       "      <td>0.000000</td>\n",
       "    </tr>\n",
       "    <tr>\n",
       "      <th>2</th>\n",
       "      <td>9/14/16</td>\n",
       "      <td>1321.75</td>\n",
       "      <td>0.000000</td>\n",
       "    </tr>\n",
       "    <tr>\n",
       "      <th>3</th>\n",
       "      <td>9/15/16</td>\n",
       "      <td>1310.80</td>\n",
       "      <td>0.000000</td>\n",
       "    </tr>\n",
       "    <tr>\n",
       "      <th>4</th>\n",
       "      <td>9/16/16</td>\n",
       "      <td>1308.35</td>\n",
       "      <td>0.000000</td>\n",
       "    </tr>\n",
       "    <tr>\n",
       "      <th>...</th>\n",
       "      <td>...</td>\n",
       "      <td>...</td>\n",
       "      <td>...</td>\n",
       "    </tr>\n",
       "    <tr>\n",
       "      <th>1260</th>\n",
       "      <td>9/6/21</td>\n",
       "      <td>1821.60</td>\n",
       "      <td>1828.734863</td>\n",
       "    </tr>\n",
       "    <tr>\n",
       "      <th>1261</th>\n",
       "      <td>9/7/21</td>\n",
       "      <td>1802.15</td>\n",
       "      <td>1830.250000</td>\n",
       "    </tr>\n",
       "    <tr>\n",
       "      <th>1262</th>\n",
       "      <td>9/8/21</td>\n",
       "      <td>1786.00</td>\n",
       "      <td>1817.861938</td>\n",
       "    </tr>\n",
       "    <tr>\n",
       "      <th>1263</th>\n",
       "      <td>9/9/21</td>\n",
       "      <td>1788.25</td>\n",
       "      <td>1800.261963</td>\n",
       "    </tr>\n",
       "    <tr>\n",
       "      <th>1264</th>\n",
       "      <td>9/10/21</td>\n",
       "      <td>1794.60</td>\n",
       "      <td>1794.274292</td>\n",
       "    </tr>\n",
       "  </tbody>\n",
       "</table>\n",
       "<p>1265 rows × 3 columns</p>\n",
       "</div>"
      ],
      "text/plain": [
       "         Date  USD (PM)  usd_nextday_predict\n",
       "0     9/12/16   1324.60             0.000000\n",
       "1     9/13/16   1323.65             0.000000\n",
       "2     9/14/16   1321.75             0.000000\n",
       "3     9/15/16   1310.80             0.000000\n",
       "4     9/16/16   1308.35             0.000000\n",
       "...       ...       ...                  ...\n",
       "1260   9/6/21   1821.60          1828.734863\n",
       "1261   9/7/21   1802.15          1830.250000\n",
       "1262   9/8/21   1786.00          1817.861938\n",
       "1263   9/9/21   1788.25          1800.261963\n",
       "1264  9/10/21   1794.60          1794.274292\n",
       "\n",
       "[1265 rows x 3 columns]"
      ]
     },
     "execution_count": 91,
     "metadata": {},
     "output_type": "execute_result"
    }
   ],
   "source": [
    "df0 = pd.read_csv(\"./黄金预测数据.csv\")\n",
    "df0"
   ]
  },
  {
   "cell_type": "code",
   "execution_count": 105,
   "id": "28711152",
   "metadata": {},
   "outputs": [
    {
     "name": "stdout",
     "output_type": "stream",
     "text": [
      "len(usd):1826\n"
     ]
    },
    {
     "data": {
      "text/html": [
       "<div>\n",
       "<style scoped>\n",
       "    .dataframe tbody tr th:only-of-type {\n",
       "        vertical-align: middle;\n",
       "    }\n",
       "\n",
       "    .dataframe tbody tr th {\n",
       "        vertical-align: top;\n",
       "    }\n",
       "\n",
       "    .dataframe thead th {\n",
       "        text-align: right;\n",
       "    }\n",
       "</style>\n",
       "<table border=\"1\" class=\"dataframe\">\n",
       "  <thead>\n",
       "    <tr style=\"text-align: right;\">\n",
       "      <th></th>\n",
       "      <th>Date</th>\n",
       "      <th>Value</th>\n",
       "      <th>BCHAIN-MKPRU_nextday_predict</th>\n",
       "      <th>usd</th>\n",
       "      <th>usd_nextday_predict</th>\n",
       "    </tr>\n",
       "  </thead>\n",
       "  <tbody>\n",
       "    <tr>\n",
       "      <th>0</th>\n",
       "      <td>9/11/16</td>\n",
       "      <td>621.65</td>\n",
       "      <td>0.000000</td>\n",
       "      <td>0.00</td>\n",
       "      <td>0.000000</td>\n",
       "    </tr>\n",
       "    <tr>\n",
       "      <th>1</th>\n",
       "      <td>9/12/16</td>\n",
       "      <td>609.67</td>\n",
       "      <td>0.000000</td>\n",
       "      <td>1324.60</td>\n",
       "      <td>0.000000</td>\n",
       "    </tr>\n",
       "    <tr>\n",
       "      <th>2</th>\n",
       "      <td>9/13/16</td>\n",
       "      <td>610.92</td>\n",
       "      <td>0.000000</td>\n",
       "      <td>1323.65</td>\n",
       "      <td>0.000000</td>\n",
       "    </tr>\n",
       "    <tr>\n",
       "      <th>3</th>\n",
       "      <td>9/14/16</td>\n",
       "      <td>608.82</td>\n",
       "      <td>0.000000</td>\n",
       "      <td>1321.75</td>\n",
       "      <td>0.000000</td>\n",
       "    </tr>\n",
       "    <tr>\n",
       "      <th>4</th>\n",
       "      <td>9/15/16</td>\n",
       "      <td>610.38</td>\n",
       "      <td>0.000000</td>\n",
       "      <td>1310.80</td>\n",
       "      <td>0.000000</td>\n",
       "    </tr>\n",
       "    <tr>\n",
       "      <th>...</th>\n",
       "      <td>...</td>\n",
       "      <td>...</td>\n",
       "      <td>...</td>\n",
       "      <td>...</td>\n",
       "      <td>...</td>\n",
       "    </tr>\n",
       "    <tr>\n",
       "      <th>1821</th>\n",
       "      <td>9/6/21</td>\n",
       "      <td>51769.06</td>\n",
       "      <td>50361.078125</td>\n",
       "      <td>1821.60</td>\n",
       "      <td>1828.734863</td>\n",
       "    </tr>\n",
       "    <tr>\n",
       "      <th>1822</th>\n",
       "      <td>9/7/21</td>\n",
       "      <td>52677.40</td>\n",
       "      <td>51666.117188</td>\n",
       "      <td>1802.15</td>\n",
       "      <td>1830.250000</td>\n",
       "    </tr>\n",
       "    <tr>\n",
       "      <th>1823</th>\n",
       "      <td>9/8/21</td>\n",
       "      <td>46809.17</td>\n",
       "      <td>52785.785156</td>\n",
       "      <td>1786.00</td>\n",
       "      <td>1817.861938</td>\n",
       "    </tr>\n",
       "    <tr>\n",
       "      <th>1824</th>\n",
       "      <td>9/9/21</td>\n",
       "      <td>46078.38</td>\n",
       "      <td>48409.058594</td>\n",
       "      <td>1788.25</td>\n",
       "      <td>1800.261963</td>\n",
       "    </tr>\n",
       "    <tr>\n",
       "      <th>1825</th>\n",
       "      <td>9/10/21</td>\n",
       "      <td>46368.69</td>\n",
       "      <td>46294.968750</td>\n",
       "      <td>1794.60</td>\n",
       "      <td>1794.274292</td>\n",
       "    </tr>\n",
       "  </tbody>\n",
       "</table>\n",
       "<p>1826 rows × 5 columns</p>\n",
       "</div>"
      ],
      "text/plain": [
       "         Date     Value  BCHAIN-MKPRU_nextday_predict      usd  \\\n",
       "0     9/11/16    621.65                      0.000000     0.00   \n",
       "1     9/12/16    609.67                      0.000000  1324.60   \n",
       "2     9/13/16    610.92                      0.000000  1323.65   \n",
       "3     9/14/16    608.82                      0.000000  1321.75   \n",
       "4     9/15/16    610.38                      0.000000  1310.80   \n",
       "...       ...       ...                           ...      ...   \n",
       "1821   9/6/21  51769.06                  50361.078125  1821.60   \n",
       "1822   9/7/21  52677.40                  51666.117188  1802.15   \n",
       "1823   9/8/21  46809.17                  52785.785156  1786.00   \n",
       "1824   9/9/21  46078.38                  48409.058594  1788.25   \n",
       "1825  9/10/21  46368.69                  46294.968750  1794.60   \n",
       "\n",
       "      usd_nextday_predict  \n",
       "0                0.000000  \n",
       "1                0.000000  \n",
       "2                0.000000  \n",
       "3                0.000000  \n",
       "4                0.000000  \n",
       "...                   ...  \n",
       "1821          1828.734863  \n",
       "1822          1830.250000  \n",
       "1823          1817.861938  \n",
       "1824          1800.261963  \n",
       "1825          1794.274292  \n",
       "\n",
       "[1826 rows x 5 columns]"
      ]
     },
     "execution_count": 105,
     "metadata": {},
     "output_type": "execute_result"
    }
   ],
   "source": [
    "usd = []\n",
    "usd_nextday_predict = []\n",
    "\n",
    "index = 0\n",
    "for i in df1.index:\n",
    "    if df1[\"Date\"][i] == df0[\"Date\"][index]:\n",
    "        usd.append(df0[\"USD (PM)\"][index])\n",
    "        usd_nextday_predict.append(df0[\"usd_nextday_predict\"][index])\n",
    "        index += 1\n",
    "    else:\n",
    "        usd.append(0)\n",
    "        usd_nextday_predict.append(0)\n",
    "print(f\"len(usd):{len(usd)}\")\n",
    "df1[\"usd\"] = usd\n",
    "df1[\"usd_nextday_predict\"] = usd_nextday_predict\n",
    "df1.to_csv(\"黄金比特币预测结果.csv\",index=False)\n",
    "df1"
   ]
  },
  {
   "cell_type": "code",
   "execution_count": null,
   "id": "5b05998c",
   "metadata": {},
   "outputs": [],
   "source": []
  }
 ],
 "metadata": {
  "kernelspec": {
   "display_name": "Python 3 (ipykernel)",
   "language": "python",
   "name": "python3"
  },
  "language_info": {
   "codemirror_mode": {
    "name": "ipython",
    "version": 3
   },
   "file_extension": ".py",
   "mimetype": "text/x-python",
   "name": "python",
   "nbconvert_exporter": "python",
   "pygments_lexer": "ipython3",
   "version": "3.8.12"
  }
 },
 "nbformat": 4,
 "nbformat_minor": 5
}
